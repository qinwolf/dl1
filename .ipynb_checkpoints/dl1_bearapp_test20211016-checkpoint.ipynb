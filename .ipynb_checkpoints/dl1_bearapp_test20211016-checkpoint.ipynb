{
 "cells": [
  {
   "cell_type": "code",
   "execution_count": 1,
   "id": "fcbd9191",
   "metadata": {},
   "outputs": [],
   "source": [
    "#r'./data_GEO/GSE43346.txt'\n",
    "#path = r'./dl1_bearapp'"
   ]
  },
  {
   "cell_type": "code",
   "execution_count": 2,
   "id": "bc43e7b2",
   "metadata": {},
   "outputs": [],
   "source": [
    "# Imports\n",
    "\n",
    "from fastai.vision.all import *\n",
    "from fastai.vision.widgets import *\n",
    "import urllib.request"
   ]
  },
  {
   "cell_type": "code",
   "execution_count": 4,
   "id": "4c8d4ba1",
   "metadata": {},
   "outputs": [],
   "source": [
    "# Load model\n",
    "\n",
    "path = Path(r'.')\n",
    "learn_inf = load_learner(path/'export.pkl', cpu=True)\n",
    "\n",
    "btn_upload = widgets.FileUpload()\n",
    "out_pl = widgets.Output()\n",
    "lbl_pred = widgets.Label()"
   ]
  },
  {
   "cell_type": "code",
   "execution_count": 5,
   "id": "b55d4994",
   "metadata": {},
   "outputs": [],
   "source": [
    "# Create interface\n",
    "\n",
    "def on_data_change(change):\n",
    "    lbl_pred.value = ''\n",
    "    \n",
    "    # Load Image\n",
    "    img = PILImage.create(btn_upload.data[-1])\n",
    "    out_pl.clear_output()\n",
    "    with out_pl:\n",
    "        display(img.to_thumb(224,244))\n",
    "    \n",
    "    # Predict image\n",
    "    pred, pred_idx, probs = learn_inf.predict(img)\n",
    "    \n",
    "    lbl_pred.value = f'Prediction: {pred}; Probability: {probs[pred_idx]:.04f}'"
   ]
  },
  {
   "cell_type": "code",
   "execution_count": 6,
   "id": "b06e7c05",
   "metadata": {},
   "outputs": [
    {
     "data": {
      "application/vnd.jupyter.widget-view+json": {
       "model_id": "c2488eb4b57847628ad7231162f6dc9e",
       "version_major": 2,
       "version_minor": 0
      },
      "text/plain": [
       "VBox(children=(Label(value='Select your bear!'), FileUpload(value={}, description='Upload'), Output(), Label(v…"
      ]
     },
     "metadata": {},
     "output_type": "display_data"
    },
    {
     "data": {
      "text/html": [],
      "text/plain": [
       "<IPython.core.display.HTML object>"
      ]
     },
     "metadata": {},
     "output_type": "display_data"
    }
   ],
   "source": [
    "btn_upload.observe(on_data_change, names=['data'])\n",
    "\n",
    "# Display Predictions\n",
    "display(VBox([widgets.Label('Select your bear!'), btn_upload, out_pl, lbl_pred]))"
   ]
  },
  {
   "cell_type": "code",
   "execution_count": null,
   "id": "f2cd35b0",
   "metadata": {},
   "outputs": [],
   "source": []
  }
 ],
 "metadata": {
  "kernelspec": {
   "display_name": "fastai",
   "language": "python",
   "name": "fastai"
  },
  "language_info": {
   "codemirror_mode": {
    "name": "ipython",
    "version": 3
   },
   "file_extension": ".py",
   "mimetype": "text/x-python",
   "name": "python",
   "nbconvert_exporter": "python",
   "pygments_lexer": "ipython3",
   "version": "3.7.11"
  }
 },
 "nbformat": 4,
 "nbformat_minor": 5
}
